{
 "cells": [
  {
   "cell_type": "code",
   "execution_count": 1,
   "metadata": {},
   "outputs": [],
   "source": [
    "# Forecast the daily closing price of GOOGL"
   ]
  },
  {
   "cell_type": "code",
   "execution_count": 2,
   "metadata": {},
   "outputs": [],
   "source": [
    "# Import time module\n",
    "from datetime import datetime as dt\n",
    "\n",
    "# Record start time\n",
    "start = dt.now()\n",
    "\n",
    "import numpy as np\n",
    "import pandas as pd\n",
    "import matplotlib.pyplot as plt"
   ]
  },
  {
   "cell_type": "code",
   "execution_count": 3,
   "metadata": {},
   "outputs": [],
   "source": [
    "df = pd.read_csv('data/GOOGL.csv')"
   ]
  },
  {
   "cell_type": "code",
   "execution_count": 4,
   "metadata": {},
   "outputs": [
    {
     "data": {
      "image/png": "[encoded data removed]",
      "text/plain": [
       "<Figure size 432x288 with 1 Axes>"
      ]
     },
     "metadata": {
      "needs_background": "light"
     },
     "output_type": "display_data"
    }
   ],
   "source": [
    "fig, ax = plt.subplots()\n",
    "\n",
    "ax.plot(df['Date'], df['Close'])\n",
    "ax.set_xlabel('Date')\n",
    "ax.set_ylabel('Closing Price (USD)')\n",
    "\n",
    "plt.xticks(\n",
    "            [4, 24, 46, 68, 89, 110, 132, 152, 174, 193, 212, 235],\n",
    "           ['May', 'June', 'July', 'Aug', 'Sep', 'Oct', 'Nov', 'Dec', 2021, 'Feb', 'Mar', 'April']\n",
    "    )\n",
    "\n",
    "#fig.autofmt_xdate()\n",
    "\n",
    "plt.tight_layout()"
   ]
  },
  {
   "cell_type": "code",
   "execution_count": 5,
   "metadata": {},
   "outputs": [
    {
     "name": "stdout",
     "output_type": "stream",
     "text": [
      "ADF Statistic: 0.31837760615546457\n",
      "P-value: 0.9781721063148977\n"
     ]
    }
   ],
   "source": [
    "# Test for stationarity - use augmented Dickey-Fuller (ADF) test\n",
    "# If the test returns a p-value less than a certain significance level, typically 0.05 or 0.01, the series is stationary.\n",
    "\n",
    "from statsmodels.tsa.stattools import adfuller\n",
    "\n",
    "adf_result = adfuller(df['Close'])\n",
    "\n",
    "print(f\"ADF Statistic: {adf_result[0]}\")\n",
    "print(f\"P-value: {adf_result[1]}\")"
   ]
  },
  {
   "cell_type": "code",
   "execution_count": 6,
   "metadata": {},
   "outputs": [],
   "source": [
    "# Apply a first-order difference.\n",
    "\n",
    "diff_close = np.diff(df['Close'], n=1)"
   ]
  },
  {
   "cell_type": "code",
   "execution_count": 7,
   "metadata": {},
   "outputs": [
    {
     "name": "stdout",
     "output_type": "stream",
     "text": [
      "ADF Statistic: -5.263208852421107\n",
      "P-value: 6.522974284131761e-06\n"
     ]
    }
   ],
   "source": [
    "# Test for stationarity - use augmented Dickey-Fuller (ADF) test\n",
    "\n",
    "diff_adf_result = adfuller(diff_close)\n",
    "\n",
    "print(f\"ADF Statistic: {diff_adf_result[0]}\")\n",
    "print(f\"P-value: {diff_adf_result[1]}\")"
   ]
  },
  {
   "cell_type": "code",
   "execution_count": 8,
   "metadata": {},
   "outputs": [
    {
     "data": {
      "image/png": "[encoded data removed]",
      "text/plain": [
       "<Figure size 432x288 with 1 Axes>"
      ]
     },
     "metadata": {
      "needs_background": "light"
     },
     "output_type": "display_data"
    }
   ],
   "source": [
    "# Check for auto - correlation: measures the correlation between a variable and itself at a previous timestep (lag)\n",
    "from statsmodels.graphics.tsaplots import plot_acf\n",
    "\n",
    "plot_acf(diff_close, lags=20)\n",
    "\n",
    "plt.tight_layout()"
   ]
  },
  {
   "cell_type": "code",
   "execution_count": 9,
   "metadata": {},
   "outputs": [],
   "source": [
    "# Split GOOGL random walk into a train set containing the total entries minus 5.\n",
    "# The remaining 5 days will be your test set.\n",
    "\n",
    "total_set = df.shape[0]\n",
    "test_nos = 5\n",
    "train_nos = total_set - test_nos\n",
    "\n",
    "train = df[:train_nos].copy()\n",
    "test = df[train_nos:].copy()"
   ]
  },
  {
   "cell_type": "code",
   "execution_count": 10,
   "metadata": {},
   "outputs": [
    {
     "data": {
      "text/html": [
       "<div>\n",
       "<style scoped>\n",
       "    .dataframe tbody tr th:only-of-type {\n",
       "        vertical-align: middle;\n",
       "    }\n",
       "\n",
       "    .dataframe tbody tr th {\n",
       "        vertical-align: top;\n",
       "    }\n",
       "\n",
       "    .dataframe thead th {\n",
       "        text-align: right;\n",
       "    }\n",
       "</style>\n",
       "<table border=\"1\" class=\"dataframe\">\n",
       "  <thead>\n",
       "    <tr style=\"text-align: right;\">\n",
       "      <th></th>\n",
       "      <th>Date</th>\n",
       "      <th>Open</th>\n",
       "      <th>High</th>\n",
       "      <th>Low</th>\n",
       "      <th>Close</th>\n",
       "      <th>Adj Close</th>\n",
       "      <th>Volume</th>\n",
       "      <th>pred_mean</th>\n",
       "    </tr>\n",
       "  </thead>\n",
       "  <tbody>\n",
       "    <tr>\n",
       "      <th>247</th>\n",
       "      <td>2021-04-20</td>\n",
       "      <td>114.874496</td>\n",
       "      <td>114.949997</td>\n",
       "      <td>112.856003</td>\n",
       "      <td>113.950500</td>\n",
       "      <td>113.950500</td>\n",
       "      <td>22288000</td>\n",
       "      <td>84.380425</td>\n",
       "    </tr>\n",
       "    <tr>\n",
       "      <th>248</th>\n",
       "      <td>2021-04-21</td>\n",
       "      <td>113.602501</td>\n",
       "      <td>114.000000</td>\n",
       "      <td>112.240997</td>\n",
       "      <td>113.917503</td>\n",
       "      <td>113.917503</td>\n",
       "      <td>23204000</td>\n",
       "      <td>84.380425</td>\n",
       "    </tr>\n",
       "    <tr>\n",
       "      <th>249</th>\n",
       "      <td>2021-04-22</td>\n",
       "      <td>113.769997</td>\n",
       "      <td>114.444000</td>\n",
       "      <td>112.015999</td>\n",
       "      <td>112.625999</td>\n",
       "      <td>112.625999</td>\n",
       "      <td>24146000</td>\n",
       "      <td>84.380425</td>\n",
       "    </tr>\n",
       "    <tr>\n",
       "      <th>250</th>\n",
       "      <td>2021-04-23</td>\n",
       "      <td>113.349998</td>\n",
       "      <td>115.306000</td>\n",
       "      <td>113.062500</td>\n",
       "      <td>114.996498</td>\n",
       "      <td>114.996498</td>\n",
       "      <td>29066000</td>\n",
       "      <td>84.380425</td>\n",
       "    </tr>\n",
       "    <tr>\n",
       "      <th>251</th>\n",
       "      <td>2021-04-26</td>\n",
       "      <td>115.225998</td>\n",
       "      <td>116.226501</td>\n",
       "      <td>114.865997</td>\n",
       "      <td>115.496498</td>\n",
       "      <td>115.496498</td>\n",
       "      <td>32038000</td>\n",
       "      <td>84.380425</td>\n",
       "    </tr>\n",
       "  </tbody>\n",
       "</table>\n",
       "</div>"
      ],
      "text/plain": [
       "           Date        Open        High         Low       Close   Adj Close  \\\n",
       "247  2021-04-20  114.874496  114.949997  112.856003  113.950500  113.950500   \n",
       "248  2021-04-21  113.602501  114.000000  112.240997  113.917503  113.917503   \n",
       "249  2021-04-22  113.769997  114.444000  112.015999  112.625999  112.625999   \n",
       "250  2021-04-23  113.349998  115.306000  113.062500  114.996498  114.996498   \n",
       "251  2021-04-26  115.225998  116.226501  114.865997  115.496498  115.496498   \n",
       "\n",
       "       Volume  pred_mean  \n",
       "247  22288000  84.380425  \n",
       "248  23204000  84.380425  \n",
       "249  24146000  84.380425  \n",
       "250  29066000  84.380425  \n",
       "251  32038000  84.380425  "
      ]
     },
     "execution_count": 10,
     "metadata": {},
     "output_type": "execute_result"
    }
   ],
   "source": [
    "# Forecast the last 5 days of the closing price using naive forecasting methods \n",
    "# 1. Forecasting the mean\n",
    "\n",
    "mean = np.mean(train.Close)\n",
    "\n",
    "test.loc[:, 'pred_mean'] = mean\n",
    "test.head(6)"
   ]
  },
  {
   "cell_type": "code",
   "execution_count": 11,
   "metadata": {},
   "outputs": [
    {
     "data": {
      "text/html": [
       "<div>\n",
       "<style scoped>\n",
       "    .dataframe tbody tr th:only-of-type {\n",
       "        vertical-align: middle;\n",
       "    }\n",
       "\n",
       "    .dataframe tbody tr th {\n",
       "        vertical-align: top;\n",
       "    }\n",
       "\n",
       "    .dataframe thead th {\n",
       "        text-align: right;\n",
       "    }\n",
       "</style>\n",
       "<table border=\"1\" class=\"dataframe\">\n",
       "  <thead>\n",
       "    <tr style=\"text-align: right;\">\n",
       "      <th></th>\n",
       "      <th>Date</th>\n",
       "      <th>Open</th>\n",
       "      <th>High</th>\n",
       "      <th>Low</th>\n",
       "      <th>Close</th>\n",
       "      <th>Adj Close</th>\n",
       "      <th>Volume</th>\n",
       "      <th>pred_mean</th>\n",
       "      <th>pred_last</th>\n",
       "    </tr>\n",
       "  </thead>\n",
       "  <tbody>\n",
       "    <tr>\n",
       "      <th>247</th>\n",
       "      <td>2021-04-20</td>\n",
       "      <td>114.874496</td>\n",
       "      <td>114.949997</td>\n",
       "      <td>112.856003</td>\n",
       "      <td>113.950500</td>\n",
       "      <td>113.950500</td>\n",
       "      <td>22288000</td>\n",
       "      <td>84.380425</td>\n",
       "      <td>114.487999</td>\n",
       "    </tr>\n",
       "    <tr>\n",
       "      <th>248</th>\n",
       "      <td>2021-04-21</td>\n",
       "      <td>113.602501</td>\n",
       "      <td>114.000000</td>\n",
       "      <td>112.240997</td>\n",
       "      <td>113.917503</td>\n",
       "      <td>113.917503</td>\n",
       "      <td>23204000</td>\n",
       "      <td>84.380425</td>\n",
       "      <td>114.487999</td>\n",
       "    </tr>\n",
       "    <tr>\n",
       "      <th>249</th>\n",
       "      <td>2021-04-22</td>\n",
       "      <td>113.769997</td>\n",
       "      <td>114.444000</td>\n",
       "      <td>112.015999</td>\n",
       "      <td>112.625999</td>\n",
       "      <td>112.625999</td>\n",
       "      <td>24146000</td>\n",
       "      <td>84.380425</td>\n",
       "      <td>114.487999</td>\n",
       "    </tr>\n",
       "    <tr>\n",
       "      <th>250</th>\n",
       "      <td>2021-04-23</td>\n",
       "      <td>113.349998</td>\n",
       "      <td>115.306000</td>\n",
       "      <td>113.062500</td>\n",
       "      <td>114.996498</td>\n",
       "      <td>114.996498</td>\n",
       "      <td>29066000</td>\n",
       "      <td>84.380425</td>\n",
       "      <td>114.487999</td>\n",
       "    </tr>\n",
       "    <tr>\n",
       "      <th>251</th>\n",
       "      <td>2021-04-26</td>\n",
       "      <td>115.225998</td>\n",
       "      <td>116.226501</td>\n",
       "      <td>114.865997</td>\n",
       "      <td>115.496498</td>\n",
       "      <td>115.496498</td>\n",
       "      <td>32038000</td>\n",
       "      <td>84.380425</td>\n",
       "      <td>114.487999</td>\n",
       "    </tr>\n",
       "  </tbody>\n",
       "</table>\n",
       "</div>"
      ],
      "text/plain": [
       "           Date        Open        High         Low       Close   Adj Close  \\\n",
       "247  2021-04-20  114.874496  114.949997  112.856003  113.950500  113.950500   \n",
       "248  2021-04-21  113.602501  114.000000  112.240997  113.917503  113.917503   \n",
       "249  2021-04-22  113.769997  114.444000  112.015999  112.625999  112.625999   \n",
       "250  2021-04-23  113.349998  115.306000  113.062500  114.996498  114.996498   \n",
       "251  2021-04-26  115.225998  116.226501  114.865997  115.496498  115.496498   \n",
       "\n",
       "       Volume  pred_mean   pred_last  \n",
       "247  22288000  84.380425  114.487999  \n",
       "248  23204000  84.380425  114.487999  \n",
       "249  24146000  84.380425  114.487999  \n",
       "250  29066000  84.380425  114.487999  \n",
       "251  32038000  84.380425  114.487999  "
      ]
     },
     "execution_count": 11,
     "metadata": {},
     "output_type": "execute_result"
    }
   ],
   "source": [
    "# 2. Forecasting the last value\n",
    "\n",
    "last_value = train.iloc[-1].Close\n",
    "\n",
    "test.loc[:, 'pred_last'] = last_value\n",
    "test.head()"
   ]
  },
  {
   "cell_type": "code",
   "execution_count": 12,
   "metadata": {},
   "outputs": [
    {
     "data": {
      "text/html": [
       "<div>\n",
       "<style scoped>\n",
       "    .dataframe tbody tr th:only-of-type {\n",
       "        vertical-align: middle;\n",
       "    }\n",
       "\n",
       "    .dataframe tbody tr th {\n",
       "        vertical-align: top;\n",
       "    }\n",
       "\n",
       "    .dataframe thead th {\n",
       "        text-align: right;\n",
       "    }\n",
       "</style>\n",
       "<table border=\"1\" class=\"dataframe\">\n",
       "  <thead>\n",
       "    <tr style=\"text-align: right;\">\n",
       "      <th></th>\n",
       "      <th>Date</th>\n",
       "      <th>Open</th>\n",
       "      <th>High</th>\n",
       "      <th>Low</th>\n",
       "      <th>Close</th>\n",
       "      <th>Adj Close</th>\n",
       "      <th>Volume</th>\n",
       "      <th>pred_mean</th>\n",
       "      <th>pred_last</th>\n",
       "      <th>pred_drift</th>\n",
       "    </tr>\n",
       "  </thead>\n",
       "  <tbody>\n",
       "    <tr>\n",
       "      <th>247</th>\n",
       "      <td>2021-04-20</td>\n",
       "      <td>114.874496</td>\n",
       "      <td>114.949997</td>\n",
       "      <td>112.856003</td>\n",
       "      <td>113.950500</td>\n",
       "      <td>113.950500</td>\n",
       "      <td>22288000</td>\n",
       "      <td>84.380425</td>\n",
       "      <td>114.487999</td>\n",
       "      <td>114.953397</td>\n",
       "    </tr>\n",
       "    <tr>\n",
       "      <th>248</th>\n",
       "      <td>2021-04-21</td>\n",
       "      <td>113.602501</td>\n",
       "      <td>114.000000</td>\n",
       "      <td>112.240997</td>\n",
       "      <td>113.917503</td>\n",
       "      <td>113.917503</td>\n",
       "      <td>23204000</td>\n",
       "      <td>84.380425</td>\n",
       "      <td>114.487999</td>\n",
       "      <td>115.418796</td>\n",
       "    </tr>\n",
       "    <tr>\n",
       "      <th>249</th>\n",
       "      <td>2021-04-22</td>\n",
       "      <td>113.769997</td>\n",
       "      <td>114.444000</td>\n",
       "      <td>112.015999</td>\n",
       "      <td>112.625999</td>\n",
       "      <td>112.625999</td>\n",
       "      <td>24146000</td>\n",
       "      <td>84.380425</td>\n",
       "      <td>114.487999</td>\n",
       "      <td>115.884194</td>\n",
       "    </tr>\n",
       "    <tr>\n",
       "      <th>250</th>\n",
       "      <td>2021-04-23</td>\n",
       "      <td>113.349998</td>\n",
       "      <td>115.306000</td>\n",
       "      <td>113.062500</td>\n",
       "      <td>114.996498</td>\n",
       "      <td>114.996498</td>\n",
       "      <td>29066000</td>\n",
       "      <td>84.380425</td>\n",
       "      <td>114.487999</td>\n",
       "      <td>116.349592</td>\n",
       "    </tr>\n",
       "    <tr>\n",
       "      <th>251</th>\n",
       "      <td>2021-04-26</td>\n",
       "      <td>115.225998</td>\n",
       "      <td>116.226501</td>\n",
       "      <td>114.865997</td>\n",
       "      <td>115.496498</td>\n",
       "      <td>115.496498</td>\n",
       "      <td>32038000</td>\n",
       "      <td>84.380425</td>\n",
       "      <td>114.487999</td>\n",
       "      <td>116.814991</td>\n",
       "    </tr>\n",
       "  </tbody>\n",
       "</table>\n",
       "</div>"
      ],
      "text/plain": [
       "           Date        Open        High         Low       Close   Adj Close  \\\n",
       "247  2021-04-20  114.874496  114.949997  112.856003  113.950500  113.950500   \n",
       "248  2021-04-21  113.602501  114.000000  112.240997  113.917503  113.917503   \n",
       "249  2021-04-22  113.769997  114.444000  112.015999  112.625999  112.625999   \n",
       "250  2021-04-23  113.349998  115.306000  113.062500  114.996498  114.996498   \n",
       "251  2021-04-26  115.225998  116.226501  114.865997  115.496498  115.496498   \n",
       "\n",
       "       Volume  pred_mean   pred_last  pred_drift  \n",
       "247  22288000  84.380425  114.487999  114.953397  \n",
       "248  23204000  84.380425  114.487999  115.418796  \n",
       "249  24146000  84.380425  114.487999  115.884194  \n",
       "250  29066000  84.380425  114.487999  116.349592  \n",
       "251  32038000  84.380425  114.487999  116.814991  "
      ]
     },
     "execution_count": 12,
     "metadata": {},
     "output_type": "execute_result"
    }
   ],
   "source": [
    "# 3. Drift method\n",
    "# Slope of a straight line by dividing the change in the y-axis by the change in the x-axis\n",
    "\n",
    "deltaX = train_nos - 1\n",
    "deltaY = last_value - 0\n",
    "\n",
    "drift = deltaY / deltaX\n",
    "#print(drift)\n",
    "x_vals = np.arange(train_nos, total_set, 1)\n",
    "\n",
    "pred_drift = drift * x_vals\n",
    "\n",
    "test.loc[:, 'pred_drift'] = pred_drift\n",
    "test.head()"
   ]
  },
  {
   "cell_type": "code",
   "execution_count": 13,
   "metadata": {},
   "outputs": [
    {
     "name": "stdout",
     "output_type": "stream",
     "text": [
      "890.0389389997663 1.0714112654038075 3.4889612927745226\n"
     ]
    }
   ],
   "source": [
    "# measure the MSE for the different naive forecasting methods\n",
    "from sklearn.metrics import mean_squared_error\n",
    "\n",
    "mse_mean = mean_squared_error(test['Close'], test['pred_mean'])\n",
    "mse_last = mean_squared_error(test['Close'], test['pred_last'])\n",
    "mse_drift = mean_squared_error(test['Close'], test['pred_drift'])\n",
    "\n",
    "print(mse_mean, mse_last, mse_drift)"
   ]
  },
  {
   "cell_type": "code",
   "execution_count": 14,
   "metadata": {},
   "outputs": [
    {
     "data": {
      "text/plain": [
       "<BarContainer object of 3 artists>"
      ]
     },
     "execution_count": 14,
     "metadata": {},
     "output_type": "execute_result"
    },
    {
     "data": {
      "image/png": "[encoded data removed]",
      "text/plain": [
       "<Figure size 432x288 with 1 Axes>"
      ]
     },
     "metadata": {
      "needs_background": "light"
     },
     "output_type": "display_data"
    }
   ],
   "source": [
    "plt.bar(['mean', 'last', 'drift'], [mse_mean, mse_last, mse_drift])"
   ]
  },
  {
   "cell_type": "code",
   "execution_count": 15,
   "metadata": {},
   "outputs": [
    {
     "data": {
      "image/png": "[encoded data removed]",
      "text/plain": [
       "<Figure size 432x288 with 1 Axes>"
      ]
     },
     "metadata": {
      "needs_background": "light"
     },
     "output_type": "display_data"
    }
   ],
   "source": [
    "fig, ax = plt.subplots()\n",
    "\n",
    "ax.plot(train.Date, train.Close, 'b-')\n",
    "ax.plot(test['Close'], 'b-')\n",
    "ax.plot(test['pred_mean'], 'r-.', label=\"Mean\")\n",
    "ax.plot(test['pred_last'], 'g--', label=\"Last Value\")\n",
    "ax.plot(test['pred_drift'], 'k:', label=\"Drift\")\n",
    "\n",
    "ax.axvspan(train_nos, total_set, color='#808080', alpha=0.2)\n",
    "ax.legend(loc=2)\n",
    "\n",
    "ax.set_xlabel('Date')\n",
    "ax.set_ylabel('Closing Price (USD)')\n",
    "\n",
    "\n",
    "plt.xticks(\n",
    "            [4, 24, 46, 68, 89, 110, 132, 152, 174, 193, 212, 235],\n",
    "           ['May', 'June', 'July', 'Aug', 'Sep', 'Oct', 'Nov', 'Dec', 2021, 'Feb', 'Mar', 'April']\n",
    "    )\n",
    "\n",
    "ax.set_xlim(152,)\n",
    "ax.set_ylim(80,)\n",
    "\n",
    "plt.tight_layout()"
   ]
  },
  {
   "cell_type": "code",
   "execution_count": 16,
   "metadata": {},
   "outputs": [
    {
     "data": {
      "text/plain": [
       "0          NaN\n",
       "1    63.542999\n",
       "2    61.629501\n",
       "3    67.109001\n",
       "4    67.334999\n",
       "Name: Close, dtype: float64"
      ]
     },
     "execution_count": 16,
     "metadata": {},
     "output_type": "execute_result"
    }
   ],
   "source": [
    "# 4. Forecasting the next timestep\n",
    "df_shift = df['Close'].shift(periods = 1)\n",
    "\n",
    "df_shift.head()"
   ]
  },
  {
   "cell_type": "code",
   "execution_count": 17,
   "metadata": {},
   "outputs": [
    {
     "name": "stdout",
     "output_type": "stream",
     "text": [
      "1.56544841360541\n"
     ]
    }
   ],
   "source": [
    "mse_one_step = mean_squared_error(test['Close'], df_shift[train_nos:])\n",
    "print(mse_one_step)"
   ]
  },
  {
   "cell_type": "code",
   "execution_count": 18,
   "metadata": {},
   "outputs": [
    {
     "data": {
      "image/png": "[encoded data removed]",
      "text/plain": [
       "<Figure size 432x288 with 1 Axes>"
      ]
     },
     "metadata": {
      "needs_background": "light"
     },
     "output_type": "display_data"
    }
   ],
   "source": [
    "fig, ax = plt.subplots()\n",
    "\n",
    "\n",
    "ax.plot(df['Date'], df['Close'], 'b-', label='actual')\n",
    "ax.plot(df_shift, 'r-.', label=\"forecast\")\n",
    "\n",
    "ax.legend(loc=2)\n",
    "\n",
    "ax.set_xlabel('Date')\n",
    "ax.set_ylabel('Closing Price (USD)')\n",
    "\n",
    "plt.xticks(\n",
    "            [4, 24, 46, 68, 89, 110, 132, 152, 174, 193, 212, 235],\n",
    "           ['May', 'June', 'July', 'Aug', 'Sep', 'Oct', 'Nov', 'Dec', 2021, 'Feb', 'Mar', 'April']\n",
    "    )\n",
    "\n",
    "plt.tight_layout()"
   ]
  },
  {
   "cell_type": "code",
   "execution_count": 19,
   "metadata": {},
   "outputs": [
    {
     "name": "stdout",
     "output_type": "stream",
     "text": [
      "The program took: 00:00:00:10\n"
     ]
    }
   ],
   "source": [
    "# Record end time\n",
    "\n",
    "end = dt.now()\n",
    "elapsed = end - start\n",
    "\n",
    "print(\"The program took: %02d:%02d:%02d:%02d\" % (elapsed.days, elapsed.seconds // 3600, elapsed.seconds // 60 % 60, elapsed.seconds % 60))"
   ]
  }
 ],
 "metadata": {
  "kernelspec": {
   "display_name": "Python 3",
   "language": "python",
   "name": "python3"
  },
  "language_info": {
   "codemirror_mode": {
    "name": "ipython",
    "version": 3
   },
   "file_extension": ".py",
   "mimetype": "text/x-python",
   "name": "python",
   "nbconvert_exporter": "python",
   "pygments_lexer": "ipython3",
   "version": "3.8.5"
  }
 },
 "nbformat": 4,
 "nbformat_minor": 4
}
