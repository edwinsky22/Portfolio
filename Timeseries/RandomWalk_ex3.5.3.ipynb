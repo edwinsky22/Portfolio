{
 "cells": [
  {
   "cell_type": "code",
   "execution_count": 1,
   "metadata": {},
   "outputs": [],
   "source": [
    "# Forecast the daily closing price of NVIDIA Corporation(NVDA)"
   ]
  },
  {
   "cell_type": "code",
   "execution_count": 2,
   "metadata": {},
   "outputs": [],
   "source": [
    "# Import time module\n",
    "from datetime import datetime as dt\n",
    "\n",
    "# Record start time\n",
    "start = dt.now()\n",
    "\n",
    "import numpy as np\n",
    "import pandas as pd\n",
    "import matplotlib.pyplot as plt"
   ]
  },
  {
   "cell_type": "code",
   "execution_count": 3,
   "metadata": {},
   "outputs": [
    {
     "data": {
      "text/html": [
       "<div>\n",
       "<style scoped>\n",
       "    .dataframe tbody tr th:only-of-type {\n",
       "        vertical-align: middle;\n",
       "    }\n",
       "\n",
       "    .dataframe tbody tr th {\n",
       "        vertical-align: top;\n",
       "    }\n",
       "\n",
       "    .dataframe thead th {\n",
       "        text-align: right;\n",
       "    }\n",
       "</style>\n",
       "<table border=\"1\" class=\"dataframe\">\n",
       "  <thead>\n",
       "    <tr style=\"text-align: right;\">\n",
       "      <th></th>\n",
       "      <th>Date</th>\n",
       "      <th>Open</th>\n",
       "      <th>High</th>\n",
       "      <th>Low</th>\n",
       "      <th>Close</th>\n",
       "      <th>Adj Close</th>\n",
       "      <th>Volume</th>\n",
       "    </tr>\n",
       "  </thead>\n",
       "  <tbody>\n",
       "    <tr>\n",
       "      <th>0</th>\n",
       "      <td>2022-09-08</td>\n",
       "      <td>134.589996</td>\n",
       "      <td>140.080002</td>\n",
       "      <td>133.690002</td>\n",
       "      <td>139.899994</td>\n",
       "      <td>139.814468</td>\n",
       "      <td>62487300</td>\n",
       "    </tr>\n",
       "    <tr>\n",
       "      <th>1</th>\n",
       "      <td>2022-09-09</td>\n",
       "      <td>141.570007</td>\n",
       "      <td>144.740005</td>\n",
       "      <td>141.259995</td>\n",
       "      <td>143.869995</td>\n",
       "      <td>143.782043</td>\n",
       "      <td>48661200</td>\n",
       "    </tr>\n",
       "    <tr>\n",
       "      <th>2</th>\n",
       "      <td>2022-09-12</td>\n",
       "      <td>143.690002</td>\n",
       "      <td>145.470001</td>\n",
       "      <td>141.979996</td>\n",
       "      <td>145.050003</td>\n",
       "      <td>144.961319</td>\n",
       "      <td>48415900</td>\n",
       "    </tr>\n",
       "    <tr>\n",
       "      <th>3</th>\n",
       "      <td>2022-09-13</td>\n",
       "      <td>138.020004</td>\n",
       "      <td>139.220001</td>\n",
       "      <td>130.990005</td>\n",
       "      <td>131.309998</td>\n",
       "      <td>131.229752</td>\n",
       "      <td>71495600</td>\n",
       "    </tr>\n",
       "    <tr>\n",
       "      <th>4</th>\n",
       "      <td>2022-09-14</td>\n",
       "      <td>132.539993</td>\n",
       "      <td>132.899994</td>\n",
       "      <td>129.130005</td>\n",
       "      <td>131.279999</td>\n",
       "      <td>131.199753</td>\n",
       "      <td>58850700</td>\n",
       "    </tr>\n",
       "  </tbody>\n",
       "</table>\n",
       "</div>"
      ],
      "text/plain": [
       "         Date        Open        High         Low       Close   Adj Close  \\\n",
       "0  2022-09-08  134.589996  140.080002  133.690002  139.899994  139.814468   \n",
       "1  2022-09-09  141.570007  144.740005  141.259995  143.869995  143.782043   \n",
       "2  2022-09-12  143.690002  145.470001  141.979996  145.050003  144.961319   \n",
       "3  2022-09-13  138.020004  139.220001  130.990005  131.309998  131.229752   \n",
       "4  2022-09-14  132.539993  132.899994  129.130005  131.279999  131.199753   \n",
       "\n",
       "     Volume  \n",
       "0  62487300  \n",
       "1  48661200  \n",
       "2  48415900  \n",
       "3  71495600  \n",
       "4  58850700  "
      ]
     },
     "execution_count": 3,
     "metadata": {},
     "output_type": "execute_result"
    }
   ],
   "source": [
    "df = pd.read_csv('data/NVDA.csv')\n",
    "df.head()"
   ]
  },
  {
   "cell_type": "code",
   "execution_count": 4,
   "metadata": {},
   "outputs": [
    {
     "data": {
      "text/html": [
       "<div>\n",
       "<style scoped>\n",
       "    .dataframe tbody tr th:only-of-type {\n",
       "        vertical-align: middle;\n",
       "    }\n",
       "\n",
       "    .dataframe tbody tr th {\n",
       "        vertical-align: top;\n",
       "    }\n",
       "\n",
       "    .dataframe thead th {\n",
       "        text-align: right;\n",
       "    }\n",
       "</style>\n",
       "<table border=\"1\" class=\"dataframe\">\n",
       "  <thead>\n",
       "    <tr style=\"text-align: right;\">\n",
       "      <th></th>\n",
       "      <th>Date</th>\n",
       "      <th>Close</th>\n",
       "    </tr>\n",
       "  </thead>\n",
       "  <tbody>\n",
       "    <tr>\n",
       "      <th>0</th>\n",
       "      <td>2022-09-08</td>\n",
       "      <td>139.899994</td>\n",
       "    </tr>\n",
       "    <tr>\n",
       "      <th>1</th>\n",
       "      <td>2022-09-09</td>\n",
       "      <td>143.869995</td>\n",
       "    </tr>\n",
       "    <tr>\n",
       "      <th>2</th>\n",
       "      <td>2022-09-12</td>\n",
       "      <td>145.050003</td>\n",
       "    </tr>\n",
       "    <tr>\n",
       "      <th>3</th>\n",
       "      <td>2022-09-13</td>\n",
       "      <td>131.309998</td>\n",
       "    </tr>\n",
       "    <tr>\n",
       "      <th>4</th>\n",
       "      <td>2022-09-14</td>\n",
       "      <td>131.279999</td>\n",
       "    </tr>\n",
       "  </tbody>\n",
       "</table>\n",
       "</div>"
      ],
      "text/plain": [
       "         Date       Close\n",
       "0  2022-09-08  139.899994\n",
       "1  2022-09-09  143.869995\n",
       "2  2022-09-12  145.050003\n",
       "3  2022-09-13  131.309998\n",
       "4  2022-09-14  131.279999"
      ]
     },
     "execution_count": 4,
     "metadata": {},
     "output_type": "execute_result"
    }
   ],
   "source": [
    "# Drop unnecessary fields\n",
    "df.drop(['Open', 'High', 'Low', 'Adj Close', 'Volume'], axis=1, inplace=True)\n",
    "df.head()"
   ]
  },
  {
   "cell_type": "code",
   "execution_count": 5,
   "metadata": {},
   "outputs": [
    {
     "name": "stdout",
     "output_type": "stream",
     "text": [
      "Records: 251\n"
     ]
    }
   ],
   "source": [
    "total_set = df.shape[0]\n",
    "print(f\"Records: {df.shape[0]}\")"
   ]
  },
  {
   "cell_type": "code",
   "execution_count": 6,
   "metadata": {},
   "outputs": [
    {
     "data": {
      "image/png": "[encoded data removed]",
      "text/plain": [
       "<Figure size 432x288 with 1 Axes>"
      ]
     },
     "metadata": {
      "needs_background": "light"
     },
     "output_type": "display_data"
    }
   ],
   "source": [
    "fig, ax = plt.subplots()\n",
    "\n",
    "ax.plot(df['Date'], df['Close'])\n",
    "ax.set_xlabel('Date')\n",
    "ax.set_ylabel('Closing Price (USD)')\n",
    "\n",
    "plt.xticks(\n",
    "            [4, 24, 46, 68, 89, 110, 132, 152, 174, 193, 212, 235],\n",
    "           ['Sep', 'Oct', 'Nov', 'Dec', 2023, 'Feb', 'Mar', 'Apr', 'May', 'Jun', 'Jul', 'Aug']\n",
    "    )\n",
    "\n",
    "plt.tight_layout()"
   ]
  },
  {
   "cell_type": "code",
   "execution_count": 7,
   "metadata": {},
   "outputs": [
    {
     "name": "stdout",
     "output_type": "stream",
     "text": [
      "ADF Statistic :0.040682579594916134\n",
      "P-Value :0.9617699537358643\n"
     ]
    }
   ],
   "source": [
    "# Test for stationarity - use augmented Dickey-Fuller (ADF) test\n",
    "# If the test returns a p-value less than a certain significance level, typically 0.05 or 0.01, the series is stationary.\n",
    "\n",
    "from statsmodels.tsa.stattools import adfuller\n",
    "\n",
    "adf_result = adfuller(df['Close'])\n",
    "\n",
    "print(f\"ADF Statistic :{adf_result[0]}\")\n",
    "print(f\"P-Value :{adf_result[1]}\")"
   ]
  },
  {
   "cell_type": "code",
   "execution_count": 8,
   "metadata": {},
   "outputs": [],
   "source": [
    "# Apply a first-order difference.\n",
    "\n",
    "diff_close = np.diff(df['Close'], n=1)"
   ]
  },
  {
   "cell_type": "code",
   "execution_count": 9,
   "metadata": {},
   "outputs": [
    {
     "name": "stdout",
     "output_type": "stream",
     "text": [
      "ADF Statistic: -10.647099705992776\n",
      "P-value: 4.764634574633495e-19\n"
     ]
    }
   ],
   "source": [
    "# Test for stationarity - use augmented Dickey-Fuller (ADF) test\n",
    "\n",
    "diff_adf_result = adfuller(diff_close)\n",
    "\n",
    "print(f\"ADF Statistic: {diff_adf_result[0]}\")\n",
    "print(f\"P-value: {diff_adf_result[1]}\")"
   ]
  },
  {
   "cell_type": "code",
   "execution_count": 10,
   "metadata": {},
   "outputs": [
    {
     "data": {
      "image/png": "[encoded data removed]",
      "text/plain": [
       "<Figure size 432x288 with 1 Axes>"
      ]
     },
     "metadata": {
      "needs_background": "light"
     },
     "output_type": "display_data"
    }
   ],
   "source": [
    "# Check for auto - correlation: measures the correlation between a variable and itself at a previous timestep (lag)\n",
    "from statsmodels.graphics.tsaplots import plot_acf\n",
    "\n",
    "plot_acf(diff_close, lags=20)\n",
    "\n",
    "plt.tight_layout()"
   ]
  },
  {
   "cell_type": "code",
   "execution_count": 11,
   "metadata": {},
   "outputs": [],
   "source": [
    "# Split NVDA random walk into a train set containing the total entries minus 5.\n",
    "# The remaining 5 days will be your test set.\n",
    "\n",
    "test_nos = 5\n",
    "train_nos = total_set - test_nos\n",
    "\n",
    "train = df[:train_nos].copy()\n",
    "test = df[train_nos:].copy()"
   ]
  },
  {
   "cell_type": "code",
   "execution_count": 12,
   "metadata": {},
   "outputs": [
    {
     "data": {
      "text/html": [
       "<div>\n",
       "<style scoped>\n",
       "    .dataframe tbody tr th:only-of-type {\n",
       "        vertical-align: middle;\n",
       "    }\n",
       "\n",
       "    .dataframe tbody tr th {\n",
       "        vertical-align: top;\n",
       "    }\n",
       "\n",
       "    .dataframe thead th {\n",
       "        text-align: right;\n",
       "    }\n",
       "</style>\n",
       "<table border=\"1\" class=\"dataframe\">\n",
       "  <thead>\n",
       "    <tr style=\"text-align: right;\">\n",
       "      <th></th>\n",
       "      <th>Date</th>\n",
       "      <th>Close</th>\n",
       "      <th>pred_mean</th>\n",
       "    </tr>\n",
       "  </thead>\n",
       "  <tbody>\n",
       "    <tr>\n",
       "      <th>246</th>\n",
       "      <td>2023-08-31</td>\n",
       "      <td>493.549988</td>\n",
       "      <td>261.493536</td>\n",
       "    </tr>\n",
       "    <tr>\n",
       "      <th>247</th>\n",
       "      <td>2023-09-01</td>\n",
       "      <td>485.089996</td>\n",
       "      <td>261.493536</td>\n",
       "    </tr>\n",
       "    <tr>\n",
       "      <th>248</th>\n",
       "      <td>2023-09-05</td>\n",
       "      <td>485.480011</td>\n",
       "      <td>261.493536</td>\n",
       "    </tr>\n",
       "    <tr>\n",
       "      <th>249</th>\n",
       "      <td>2023-09-06</td>\n",
       "      <td>470.609985</td>\n",
       "      <td>261.493536</td>\n",
       "    </tr>\n",
       "    <tr>\n",
       "      <th>250</th>\n",
       "      <td>2023-09-07</td>\n",
       "      <td>462.410004</td>\n",
       "      <td>261.493536</td>\n",
       "    </tr>\n",
       "  </tbody>\n",
       "</table>\n",
       "</div>"
      ],
      "text/plain": [
       "           Date       Close   pred_mean\n",
       "246  2023-08-31  493.549988  261.493536\n",
       "247  2023-09-01  485.089996  261.493536\n",
       "248  2023-09-05  485.480011  261.493536\n",
       "249  2023-09-06  470.609985  261.493536\n",
       "250  2023-09-07  462.410004  261.493536"
      ]
     },
     "execution_count": 12,
     "metadata": {},
     "output_type": "execute_result"
    }
   ],
   "source": [
    "# Forecast the last 5 days of the closing price using naive forecasting methods \n",
    "# 1. Forecasting the mean\n",
    "\n",
    "mean = np.mean(train.Close)\n",
    "\n",
    "test.loc[:, 'pred_mean'] = mean\n",
    "test.head(6)"
   ]
  },
  {
   "cell_type": "code",
   "execution_count": 13,
   "metadata": {},
   "outputs": [
    {
     "data": {
      "text/html": [
       "<div>\n",
       "<style scoped>\n",
       "    .dataframe tbody tr th:only-of-type {\n",
       "        vertical-align: middle;\n",
       "    }\n",
       "\n",
       "    .dataframe tbody tr th {\n",
       "        vertical-align: top;\n",
       "    }\n",
       "\n",
       "    .dataframe thead th {\n",
       "        text-align: right;\n",
       "    }\n",
       "</style>\n",
       "<table border=\"1\" class=\"dataframe\">\n",
       "  <thead>\n",
       "    <tr style=\"text-align: right;\">\n",
       "      <th></th>\n",
       "      <th>Date</th>\n",
       "      <th>Close</th>\n",
       "      <th>pred_mean</th>\n",
       "      <th>pred_last</th>\n",
       "    </tr>\n",
       "  </thead>\n",
       "  <tbody>\n",
       "    <tr>\n",
       "      <th>246</th>\n",
       "      <td>2023-08-31</td>\n",
       "      <td>493.549988</td>\n",
       "      <td>261.493536</td>\n",
       "      <td>492.640015</td>\n",
       "    </tr>\n",
       "    <tr>\n",
       "      <th>247</th>\n",
       "      <td>2023-09-01</td>\n",
       "      <td>485.089996</td>\n",
       "      <td>261.493536</td>\n",
       "      <td>492.640015</td>\n",
       "    </tr>\n",
       "    <tr>\n",
       "      <th>248</th>\n",
       "      <td>2023-09-05</td>\n",
       "      <td>485.480011</td>\n",
       "      <td>261.493536</td>\n",
       "      <td>492.640015</td>\n",
       "    </tr>\n",
       "    <tr>\n",
       "      <th>249</th>\n",
       "      <td>2023-09-06</td>\n",
       "      <td>470.609985</td>\n",
       "      <td>261.493536</td>\n",
       "      <td>492.640015</td>\n",
       "    </tr>\n",
       "    <tr>\n",
       "      <th>250</th>\n",
       "      <td>2023-09-07</td>\n",
       "      <td>462.410004</td>\n",
       "      <td>261.493536</td>\n",
       "      <td>492.640015</td>\n",
       "    </tr>\n",
       "  </tbody>\n",
       "</table>\n",
       "</div>"
      ],
      "text/plain": [
       "           Date       Close   pred_mean   pred_last\n",
       "246  2023-08-31  493.549988  261.493536  492.640015\n",
       "247  2023-09-01  485.089996  261.493536  492.640015\n",
       "248  2023-09-05  485.480011  261.493536  492.640015\n",
       "249  2023-09-06  470.609985  261.493536  492.640015\n",
       "250  2023-09-07  462.410004  261.493536  492.640015"
      ]
     },
     "execution_count": 13,
     "metadata": {},
     "output_type": "execute_result"
    }
   ],
   "source": [
    "# 2. Forecasting the last value\n",
    "\n",
    "last_value = train.iloc[-1].Close\n",
    "\n",
    "test.loc[:, 'pred_last'] = last_value\n",
    "test.head()"
   ]
  },
  {
   "cell_type": "code",
   "execution_count": 14,
   "metadata": {},
   "outputs": [
    {
     "data": {
      "text/html": [
       "<div>\n",
       "<style scoped>\n",
       "    .dataframe tbody tr th:only-of-type {\n",
       "        vertical-align: middle;\n",
       "    }\n",
       "\n",
       "    .dataframe tbody tr th {\n",
       "        vertical-align: top;\n",
       "    }\n",
       "\n",
       "    .dataframe thead th {\n",
       "        text-align: right;\n",
       "    }\n",
       "</style>\n",
       "<table border=\"1\" class=\"dataframe\">\n",
       "  <thead>\n",
       "    <tr style=\"text-align: right;\">\n",
       "      <th></th>\n",
       "      <th>Date</th>\n",
       "      <th>Close</th>\n",
       "      <th>pred_mean</th>\n",
       "      <th>pred_last</th>\n",
       "      <th>pred_drift</th>\n",
       "    </tr>\n",
       "  </thead>\n",
       "  <tbody>\n",
       "    <tr>\n",
       "      <th>246</th>\n",
       "      <td>2023-08-31</td>\n",
       "      <td>493.549988</td>\n",
       "      <td>261.493536</td>\n",
       "      <td>492.640015</td>\n",
       "      <td>494.650791</td>\n",
       "    </tr>\n",
       "    <tr>\n",
       "      <th>247</th>\n",
       "      <td>2023-09-01</td>\n",
       "      <td>485.089996</td>\n",
       "      <td>261.493536</td>\n",
       "      <td>492.640015</td>\n",
       "      <td>496.661566</td>\n",
       "    </tr>\n",
       "    <tr>\n",
       "      <th>248</th>\n",
       "      <td>2023-09-05</td>\n",
       "      <td>485.480011</td>\n",
       "      <td>261.493536</td>\n",
       "      <td>492.640015</td>\n",
       "      <td>498.672342</td>\n",
       "    </tr>\n",
       "    <tr>\n",
       "      <th>249</th>\n",
       "      <td>2023-09-06</td>\n",
       "      <td>470.609985</td>\n",
       "      <td>261.493536</td>\n",
       "      <td>492.640015</td>\n",
       "      <td>500.683117</td>\n",
       "    </tr>\n",
       "    <tr>\n",
       "      <th>250</th>\n",
       "      <td>2023-09-07</td>\n",
       "      <td>462.410004</td>\n",
       "      <td>261.493536</td>\n",
       "      <td>492.640015</td>\n",
       "      <td>502.693893</td>\n",
       "    </tr>\n",
       "  </tbody>\n",
       "</table>\n",
       "</div>"
      ],
      "text/plain": [
       "           Date       Close   pred_mean   pred_last  pred_drift\n",
       "246  2023-08-31  493.549988  261.493536  492.640015  494.650791\n",
       "247  2023-09-01  485.089996  261.493536  492.640015  496.661566\n",
       "248  2023-09-05  485.480011  261.493536  492.640015  498.672342\n",
       "249  2023-09-06  470.609985  261.493536  492.640015  500.683117\n",
       "250  2023-09-07  462.410004  261.493536  492.640015  502.693893"
      ]
     },
     "execution_count": 14,
     "metadata": {},
     "output_type": "execute_result"
    }
   ],
   "source": [
    "# 3. Drift method\n",
    "# Slope of a straight line by dividing the change in the y-axis by the change in the x-axis\n",
    "\n",
    "deltaX = train_nos - 1\n",
    "deltaY = last_value - 0\n",
    "\n",
    "drift = deltaY / deltaX\n",
    "#print(drift)\n",
    "x_vals = np.arange(train_nos, total_set, 1)\n",
    "\n",
    "pred_drift = drift * x_vals\n",
    "\n",
    "test.loc[:, 'pred_drift'] = pred_drift\n",
    "test.head()"
   ]
  },
  {
   "cell_type": "code",
   "execution_count": 15,
   "metadata": {},
   "outputs": [
    {
     "name": "stdout",
     "output_type": "stream",
     "text": [
      "47622.52607618578 301.6544563804255 567.2671156952234\n"
     ]
    }
   ],
   "source": [
    "# measure the MSE for the different naive forecasting methods\n",
    "from sklearn.metrics import mean_squared_error\n",
    "\n",
    "mse_mean = mean_squared_error(test['Close'], test['pred_mean'])\n",
    "mse_last = mean_squared_error(test['Close'], test['pred_last'])\n",
    "mse_drift = mean_squared_error(test['Close'], test['pred_drift'])\n",
    "\n",
    "print(mse_mean, mse_last, mse_drift)"
   ]
  },
  {
   "cell_type": "code",
   "execution_count": 16,
   "metadata": {},
   "outputs": [
    {
     "data": {
      "text/plain": [
       "<BarContainer object of 3 artists>"
      ]
     },
     "execution_count": 16,
     "metadata": {},
     "output_type": "execute_result"
    },
    {
     "data": {
      "image/png": "[encoded data removed]",
      "text/plain": [
       "<Figure size 432x288 with 1 Axes>"
      ]
     },
     "metadata": {
      "needs_background": "light"
     },
     "output_type": "display_data"
    }
   ],
   "source": [
    "plt.bar(['mean', 'last', 'drift'], [mse_mean, mse_last, mse_drift])"
   ]
  },
  {
   "cell_type": "code",
   "execution_count": 17,
   "metadata": {},
   "outputs": [
    {
     "data": {
      "image/png": "[encoded data removed]",
      "text/plain": [
       "<Figure size 432x288 with 1 Axes>"
      ]
     },
     "metadata": {
      "needs_background": "light"
     },
     "output_type": "display_data"
    }
   ],
   "source": [
    "fig, ax = plt.subplots()\n",
    "\n",
    "ax.plot(train.Date, train.Close, 'b-')\n",
    "ax.plot(test['Close'], 'b-')\n",
    "ax.plot(test['pred_mean'], 'r-.', label=\"Mean\")\n",
    "ax.plot(test['pred_last'], 'g--', label=\"Last Value\")\n",
    "ax.plot(test['pred_drift'], 'k:', label=\"Drift\")\n",
    "\n",
    "ax.axvspan(train_nos, total_set, color='#808080', alpha=0.2)\n",
    "ax.legend(loc=2)\n",
    "\n",
    "ax.set_xlabel('Date')\n",
    "ax.set_ylabel('Closing Price (USD)')\n",
    "\n",
    "plt.xticks(\n",
    "            [4, 24, 46, 68, 89, 110, 132, 152, 174, 193, 212, 235],\n",
    "           ['Sep', 'Oct', 'Nov', 'Dec', 2023, 'Feb', 'Mar', 'Apr', 'May', 'Jun', 'Jul', 'Aug']\n",
    "    )\n",
    "\n",
    "ax.set_xlim(152,)\n",
    "ax.set_ylim(200,)\n",
    "\n",
    "plt.tight_layout()"
   ]
  },
  {
   "cell_type": "code",
   "execution_count": 18,
   "metadata": {},
   "outputs": [
    {
     "data": {
      "text/plain": [
       "0           NaN\n",
       "1    139.899994\n",
       "2    143.869995\n",
       "3    145.050003\n",
       "4    131.309998\n",
       "Name: Close, dtype: float64"
      ]
     },
     "execution_count": 18,
     "metadata": {},
     "output_type": "execute_result"
    }
   ],
   "source": [
    "# 4. Forecasting the next timestep\n",
    "df_shift = df['Close'].shift(periods = 1)\n",
    "\n",
    "df_shift.head()"
   ]
  },
  {
   "cell_type": "code",
   "execution_count": 19,
   "metadata": {},
   "outputs": [
    {
     "name": "stdout",
     "output_type": "stream",
     "text": [
      "72.1817977684109\n"
     ]
    }
   ],
   "source": [
    "mse_one_step = mean_squared_error(test['Close'], df_shift[train_nos:])\n",
    "print(mse_one_step)"
   ]
  },
  {
   "cell_type": "code",
   "execution_count": 20,
   "metadata": {},
   "outputs": [
    {
     "data": {
      "image/png": "[encoded data removed]",
      "text/plain": [
       "<Figure size 432x288 with 1 Axes>"
      ]
     },
     "metadata": {
      "needs_background": "light"
     },
     "output_type": "display_data"
    }
   ],
   "source": [
    "fig, ax = plt.subplots()\n",
    "\n",
    "\n",
    "ax.plot(df['Date'], df['Close'], 'b-', label='actual')\n",
    "ax.plot(df_shift, 'r-.', label=\"forecast\")\n",
    "\n",
    "ax.legend(loc=2)\n",
    "\n",
    "ax.set_xlabel('Date')\n",
    "ax.set_ylabel('Closing Price (USD)')\n",
    "\n",
    "plt.xticks(\n",
    "            [4, 24, 46, 68, 89, 110, 132, 152, 174, 193, 212, 235],\n",
    "           ['Sep', 'Oct', 'Nov', 'Dec', 2023, 'Feb', 'Mar', 'Apr', 'May', 'Jun', 'Jul', 'Aug']\n",
    "    )\n",
    "\n",
    "ax.set_xlim(152,)\n",
    "ax.set_ylim(200,)\n",
    "\n",
    "plt.tight_layout()"
   ]
  },
  {
   "cell_type": "code",
   "execution_count": 21,
   "metadata": {},
   "outputs": [
    {
     "name": "stdout",
     "output_type": "stream",
     "text": [
      "The program took: 00:00:00:10\n"
     ]
    }
   ],
   "source": [
    "# Record end time\n",
    "\n",
    "end = dt.now()\n",
    "elapsed = end - start\n",
    "\n",
    "print(\"The program took: %02d:%02d:%02d:%02d\" % (elapsed.days, elapsed.seconds // 3600, elapsed.seconds // 60 % 60, elapsed.seconds % 60))"
   ]
  }
 ],
 "metadata": {
  "kernelspec": {
   "display_name": "Python 3",
   "language": "python",
   "name": "python3"
  },
  "language_info": {
   "codemirror_mode": {
    "name": "ipython",
    "version": 3
   },
   "file_extension": ".py",
   "mimetype": "text/x-python",
   "name": "python",
   "nbconvert_exporter": "python",
   "pygments_lexer": "ipython3",
   "version": "3.8.5"
  }
 },
 "nbformat": 4,
 "nbformat_minor": 4
}
